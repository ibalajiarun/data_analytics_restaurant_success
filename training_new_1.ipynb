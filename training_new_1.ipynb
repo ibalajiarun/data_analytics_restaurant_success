{
 "cells": [
  {
   "cell_type": "code",
   "execution_count": 28,
   "metadata": {
    "collapsed": true
   },
   "outputs": [],
   "source": [
    "import pandas as pd\n",
    "import numpy as np\n",
    "from sklearn.feature_selection import *\n",
    "from sklearn.tree import DecisionTreeClassifier\n",
    "from sklearn.naive_bayes import GaussianNB\n",
    "from sklearn.ensemble import RandomForestClassifier, AdaBoostClassifier\n",
    "from sklearn.neighbors import KNeighborsClassifier\n",
    "from sklearn.svm import SVC\n",
    "from sklearn.model_selection import cross_val_score\n",
    "from sklearn.model_selection import train_test_split\n",
    "from sklearn.metrics import f1_score\n",
    "from sklearn.metrics import confusion_matrix\n",
    "from sklearn.metrics import roc_curve\n",
    "from sklearn.metrics import precision_score\n",
    "from sklearn.metrics import recall_score\n",
    "from sklearn.linear_model import LogisticRegression\n",
    "import matplotlib.pyplot as plt\n",
    "%matplotlib inline"
   ]
  },
  {
   "cell_type": "code",
   "execution_count": 29,
   "metadata": {
    "collapsed": true
   },
   "outputs": [],
   "source": [
    "x = pd.read_pickle('x.pkl')\n",
    "y = pd.read_pickle('y.pkl')"
   ]
  },
  {
   "cell_type": "code",
   "execution_count": 30,
   "metadata": {},
   "outputs": [
    {
     "data": {
      "text/plain": [
       "False"
      ]
     },
     "execution_count": 30,
     "metadata": {},
     "output_type": "execute_result"
    }
   ],
   "source": [
    "np.any(x.values) < 0"
   ]
  },
  {
   "cell_type": "code",
   "execution_count": 31,
   "metadata": {},
   "outputs": [
    {
     "data": {
      "text/plain": [
       "SelectKBest(k=5, score_func=<function chi2 at 0x1a12fad2f0>)"
      ]
     },
     "execution_count": 31,
     "metadata": {},
     "output_type": "execute_result"
    }
   ],
   "source": [
    "sk_best = SelectKBest(chi2, 5)\n",
    "sk_best.fit(x, y)"
   ]
  },
  {
   "cell_type": "code",
   "execution_count": 32,
   "metadata": {},
   "outputs": [
    {
     "data": {
      "text/plain": [
       "array([False,  True,  True, False,  True, False,  True, False,  True,\n",
       "       False, False, False, False, False, False, False, False, False,\n",
       "       False, False, False, False, False, False, False, False, False,\n",
       "       False, False, False, False, False, False, False, False, False,\n",
       "       False, False, False, False, False, False, False, False, False,\n",
       "       False, False, False, False, False, False], dtype=bool)"
      ]
     },
     "execution_count": 32,
     "metadata": {},
     "output_type": "execute_result"
    }
   ],
   "source": [
    "sk_best.get_support()"
   ]
  },
  {
   "cell_type": "code",
   "execution_count": 33,
   "metadata": {
    "collapsed": true
   },
   "outputs": [],
   "source": [
    "x_train, x_test, y_train, y_test = train_test_split(x, y, test_size = 0.2, random_state = 10,\\\n",
    "                                                    stratify = y)"
   ]
  },
  {
   "cell_type": "code",
   "execution_count": 34,
   "metadata": {},
   "outputs": [
    {
     "name": "stdout",
     "output_type": "stream",
     "text": [
      "Accuracy:  0.742081447964\n",
      "Precision:  0.5\n",
      "Recall:  0.502923976608\n",
      "F1 Score:  0.501457725948\n",
      "Confusion Matrix:\n",
      " [[406  86]\n",
      " [ 85  86]]\n",
      "Avg. 10-fold Cross Validation Accuracy:  0.763745212087\n"
     ]
    }
   ],
   "source": [
    "tree_clf = DecisionTreeClassifier()\n",
    "tree_clf.fit(x_train, y_train)\n",
    "y_pred = tree_clf.predict(x_test)\n",
    "print('Accuracy: ',tree_clf.score(x_test, y_test))\n",
    "print('Precision: ',precision_score(y_test, y_pred))\n",
    "print('Recall: ', recall_score(y_test,y_pred))\n",
    "print('F1 Score: ',f1_score(y_test.values,y_pred))\n",
    "print('Confusion Matrix:\\n',confusion_matrix(y_test.values, y_pred))\n",
    "dt_scores = cross_val_score(tree_clf, x_train, y_train, cv=10)\n",
    "print('Avg. 10-fold Cross Validation Accuracy: ', np.mean(dt_scores))"
   ]
  },
  {
   "cell_type": "code",
   "execution_count": 35,
   "metadata": {},
   "outputs": [
    {
     "name": "stdout",
     "output_type": "stream",
     "text": [
      "Accuracy:  0.79185520362\n",
      "Precision:  0.677419354839\n",
      "Recall:  0.368421052632\n",
      "F1 Score:  0.477272727273\n",
      "Confusion Matrix:\n",
      " [[462  30]\n",
      " [108  63]]\n",
      "Avg. 10-fold Cross Validation Accuracy:  0.779665489754\n"
     ]
    }
   ],
   "source": [
    "rf_clf = RandomForestClassifier()\n",
    "rf_clf.fit(x_train, y_train)\n",
    "y_pred = rf_clf.predict(x_test)\n",
    "print('Accuracy: ',rf_clf.score(x_test, y_test))\n",
    "print('Precision: ',precision_score(y_test, y_pred))\n",
    "print('Recall: ', recall_score(y_test, y_pred))\n",
    "print('F1 Score: ',f1_score(y_test, y_pred))\n",
    "print('Confusion Matrix:\\n',confusion_matrix(y_test, y_pred))\n",
    "dt_scores = cross_val_score(rf_clf, x, y, cv=10)\n",
    "print('Avg. 10-fold Cross Validation Accuracy: ', np.mean(dt_scores))"
   ]
  },
  {
   "cell_type": "code",
   "execution_count": 36,
   "metadata": {},
   "outputs": [
    {
     "name": "stdout",
     "output_type": "stream",
     "text": [
      "Accuracy:  0.796380090498\n",
      "Precision:  0.647540983607\n",
      "Recall:  0.461988304094\n",
      "F1 Score:  0.539249146758\n",
      "Confusion Matrix:\n",
      " [[449  43]\n",
      " [ 92  79]]\n",
      "Avg. 10-fold Cross Validation Accuracy:  0.805325228406\n"
     ]
    }
   ],
   "source": [
    "ab_clf = AdaBoostClassifier()\n",
    "ab_clf.fit(x_train, y_train)\n",
    "y_pred = ab_clf.predict(x_test)\n",
    "print('Accuracy: ',ab_clf.score(x_test, y_test))\n",
    "print('Precision: ',precision_score(y_test, y_pred))\n",
    "print('Recall: ', recall_score(y_test, y_pred))\n",
    "print('F1 Score: ',f1_score(y_test, y_pred))\n",
    "print('Confusion Matrix:\\n',confusion_matrix(y_test, y_pred))\n",
    "dt_scores = cross_val_score(ab_clf, x, y, cv=10)\n",
    "print('Avg. 10-fold Cross Validation Accuracy: ', np.mean(dt_scores))"
   ]
  },
  {
   "cell_type": "code",
   "execution_count": 37,
   "metadata": {},
   "outputs": [
    {
     "name": "stdout",
     "output_type": "stream",
     "text": [
      "Accuracy:  0.731523378582\n",
      "Precision:  0.466666666667\n",
      "Recall:  0.286549707602\n",
      "F1 Score:  0.355072463768\n",
      "Confusion Matrix:\n",
      " [[436  56]\n",
      " [122  49]]\n",
      "Avg. 10-fold Cross Validation Accuracy:  0.706620136134\n"
     ]
    }
   ],
   "source": [
    "knn_clf = KNeighborsClassifier()\n",
    "knn_clf.fit(x_train, y_train)\n",
    "y_pred = knn_clf.predict(x_test)\n",
    "print('Accuracy: ',knn_clf.score(x_test, y_test))\n",
    "print('Precision: ',precision_score(y_test, y_pred))\n",
    "print('Recall: ', recall_score(y_test, y_pred))\n",
    "print('F1 Score: ',f1_score(y_test, y_pred))\n",
    "print('Confusion Matrix:\\n',confusion_matrix(y_test, y_pred))\n",
    "dt_scores = cross_val_score(knn_clf, x, y, cv=10)\n",
    "print('Avg. 10-fold Cross Validation Accuracy: ', np.mean(dt_scores))"
   ]
  },
  {
   "cell_type": "code",
   "execution_count": 38,
   "metadata": {},
   "outputs": [
    {
     "name": "stdout",
     "output_type": "stream",
     "text": [
      "Accuracy:  0.758672699849\n",
      "Precision:  0.564705882353\n",
      "Recall:  0.280701754386\n",
      "F1 Score:  0.375\n",
      "Confusion Matrix:\n",
      " [[455  37]\n",
      " [123  48]]\n",
      "Avg. 10-fold Cross Validation Accuracy:  0.736489462381\n"
     ]
    }
   ],
   "source": [
    "nb_clf = GaussianNB()\n",
    "nb_clf.fit(x_train, y_train)\n",
    "y_pred = nb_clf.predict(x_test)\n",
    "print('Accuracy: ',nb_clf.score(x_test, y_test))\n",
    "print('Precision: ',precision_score(y_test, y_pred))\n",
    "print('Recall: ', recall_score(y_test, y_pred))\n",
    "print('F1 Score: ',f1_score(y_test, y_pred))\n",
    "print('Confusion Matrix:\\n',confusion_matrix(y_test, y_pred))\n",
    "dt_scores = cross_val_score(nb_clf, x, y, cv=10)\n",
    "print('Avg. 10-fold Cross Validation Accuracy: ', np.mean(dt_scores))"
   ]
  },
  {
   "cell_type": "code",
   "execution_count": 39,
   "metadata": {},
   "outputs": [
    {
     "name": "stdout",
     "output_type": "stream",
     "text": [
      "Accuracy:  0.748114630468\n",
      "Precision:  0.833333333333\n",
      "Recall:  0.0292397660819\n",
      "F1 Score:  0.0564971751412\n",
      "Confusion Matrix:\n",
      " [[491   1]\n",
      " [166   5]]\n",
      "Avg. 10-fold Cross Validation Accuracy:  0.742832963273\n"
     ]
    }
   ],
   "source": [
    "svm_clf = SVC(probability=True)\n",
    "svm_clf.fit(x_train, y_train)\n",
    "y_pred = svm_clf.predict(x_test)\n",
    "print('Accuracy: ',svm_clf.score(x_test, y_test))\n",
    "print('Precision: ',precision_score(y_test, y_pred))\n",
    "print('Recall: ', recall_score(y_test, y_pred))\n",
    "print('F1 Score: ',f1_score(y_test, y_pred))\n",
    "print('Confusion Matrix:\\n',confusion_matrix(y_test, y_pred))\n",
    "dt_scores = cross_val_score(svm_clf, x, y, cv=10)\n",
    "print('Avg. 10-fold Cross Validation Accuracy: ', np.mean(dt_scores))"
   ]
  },
  {
   "cell_type": "code",
   "execution_count": 40,
   "metadata": {},
   "outputs": [
    {
     "data": {
      "text/plain": [
       "<matplotlib.legend.Legend at 0x1a19ef6630>"
      ]
     },
     "execution_count": 40,
     "metadata": {},
     "output_type": "execute_result"
    },
    {
     "data": {
      "image/png": "[encoded data removed]",
      "text/plain": [
       "<Figure size 432x288 with 1 Axes>"
      ]
     },
     "metadata": {},
     "output_type": "display_data"
    }
   ],
   "source": [
    "#ROC Curve\n",
    "y_score_tree = tree_clf.predict_proba(x_test)[:,1]\n",
    "y_score_rf = rf_clf.predict_proba(x_test)[:,1]\n",
    "y_score_ab = ab_clf.predict_proba(x_test)[:,1]\n",
    "y_score_knn = knn_clf.predict_proba(x_test)[:,1]\n",
    "y_score_nb = nb_clf.predict_proba(x_test)[:,1]\n",
    "# y_score_svm = svm_clf.predict_proba(x_test)\n",
    "fpr_tree, tpr_tree, _ = roc_curve(y_test, y_score_tree)\n",
    "fpr_rf, tpr_rf, _ = roc_curve(y_test,y_score_rf)\n",
    "fpr_ab, tpr_ab, _ = roc_curve(y_test,y_score_ab)\n",
    "fpr_knn, tpr_knn, _ = roc_curve(y_test,y_score_knn)\n",
    "fpr_nb, tpr_nb, _ = roc_curve(y_test,y_score_nb)\n",
    "# fpr_svm, tpr_svm, _ = roc_curve(y_test,y_score_svm)\n",
    "plt.plot([0,1],[0,1],'k--')\n",
    "\n",
    "plt.plot(fpr_tree,tpr_tree,label='Decision Tree')\n",
    "plt.plot(fpr_rf,tpr_rf,label='RandomForest')\n",
    "plt.plot(fpr_ab,tpr_ab,label='Adaboost')\n",
    "plt.plot(fpr_knn,tpr_knn,label='KNN')\n",
    "plt.plot(fpr_nb,tpr_nb,label='Naive Bayes')\n",
    "# plt.plot(fpr_svm,tpr_svm,label='SVM')\n",
    "\n",
    "plt.xlim([0.0, 1.0])\n",
    "plt.ylim([0.0, 1.05])\n",
    "plt.title('ROC Curves')\n",
    "plt.xlabel('False Positive Rate')\n",
    "plt.ylabel('True Positive Rate')\n",
    "plt.legend()"
   ]
  },
  {
   "cell_type": "code",
   "execution_count": 41,
   "metadata": {},
   "outputs": [
    {
     "name": "stdout",
     "output_type": "stream",
     "text": [
      "Feature ranking:\n",
      "1. review_count (0.200000)\n",
      "2. 3m_count_similar (0.100000)\n",
      "3. 0.5m_count (0.060000)\n",
      "4. 1m_count (0.060000)\n",
      "5. 2m_count (0.060000)\n",
      "6. income (0.060000)\n",
      "7. 2m_count_similar (0.060000)\n",
      "8. 3m_count (0.040000)\n",
      "9. 0.5m_count_similar (0.040000)\n",
      "10. rating (0.020000)\n",
      "11. is_chain (0.020000)\n",
      "12. BusinessParking.street (0.020000)\n",
      "13. Alcohol (0.020000)\n",
      "14. BusinessParking.lot (0.020000)\n",
      "15. is_fastfood (0.020000)\n",
      "16. WiFi (0.020000)\n",
      "17. Ambience.trendy (0.020000)\n",
      "18. price_ordinal (0.020000)\n",
      "19. GoodForMeal.dessert (0.020000)\n",
      "20. GoodForMeal.breakfast (0.020000)\n"
     ]
    }
   ],
   "source": [
    "importances = ab_clf.feature_importances_\n",
    "indices = np.argsort(importances)[::-1]\n",
    "# Print the feature ranking\n",
    "print(\"Feature ranking:\")\n",
    "for f in range(20):\n",
    "    print(\"%d. %s (%f)\" % (f + 1, x.iloc[:,indices[f]].name, importances[indices[f]]))"
   ]
  },
  {
   "cell_type": "code",
   "execution_count": 42,
   "metadata": {},
   "outputs": [
    {
     "data": {
      "text/plain": [
       "(-1, 10)"
      ]
     },
     "execution_count": 42,
     "metadata": {},
     "output_type": "execute_result"
    },
    {
     "data": {
      "image/png": "[encoded data removed]",
      "text/plain": [
       "<Figure size 720x504 with 1 Axes>"
      ]
     },
     "metadata": {},
     "output_type": "display_data"
    }
   ],
   "source": [
    "plt.figure(figsize=(10,7))\n",
    "plt.title(\"Feature importance\")\n",
    "plt.barh(range(x_test.shape[1])[:10], importances[indices][:10],align=\"center\")\n",
    "plt.yticks(range(x_test.shape[1])[:10], x.iloc[:,indices].columns)\n",
    "plt.ylim([-1, 10])"
   ]
  },
  {
   "cell_type": "code",
   "execution_count": 43,
   "metadata": {},
   "outputs": [
    {
     "data": {
      "text/plain": [
       "3313"
      ]
     },
     "execution_count": 43,
     "metadata": {},
     "output_type": "execute_result"
    }
   ],
   "source": [
    "len(x)"
   ]
  },
  {
   "cell_type": "code",
   "execution_count": null,
   "metadata": {
    "collapsed": true
   },
   "outputs": [],
   "source": []
  }
 ],
 "metadata": {
  "kernelspec": {
   "display_name": "Python 3",
   "language": "python",
   "name": "python3"
  },
  "language_info": {
   "codemirror_mode": {
    "name": "ipython",
    "version": 3
   },
   "file_extension": ".py",
   "mimetype": "text/x-python",
   "name": "python",
   "nbconvert_exporter": "python",
   "pygments_lexer": "ipython3",
   "version": "3.6.5"
  }
 },
 "nbformat": 4,
 "nbformat_minor": 2
}
