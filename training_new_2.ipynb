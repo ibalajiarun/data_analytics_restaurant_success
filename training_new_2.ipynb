{
 "cells": [
  {
   "cell_type": "code",
   "execution_count": 49,
   "metadata": {
    "collapsed": true
   },
   "outputs": [],
   "source": [
    "import pandas as pd\n",
    "import numpy as np\n",
    "from sklearn.feature_selection import *\n",
    "from sklearn.tree import DecisionTreeClassifier\n",
    "from sklearn.naive_bayes import GaussianNB\n",
    "from sklearn.ensemble import RandomForestClassifier, AdaBoostClassifier\n",
    "from sklearn.neighbors import KNeighborsClassifier\n",
    "from sklearn.svm import SVC\n",
    "from sklearn.model_selection import cross_val_score\n",
    "from sklearn.model_selection import train_test_split\n",
    "from sklearn.metrics import f1_score\n",
    "from sklearn.metrics import confusion_matrix\n",
    "from sklearn.metrics import roc_curve\n",
    "from sklearn.metrics import precision_score\n",
    "from sklearn.metrics import recall_score\n",
    "from sklearn.linear_model import LogisticRegression\n",
    "import matplotlib.pyplot as plt\n",
    "%matplotlib inline"
   ]
  },
  {
   "cell_type": "code",
   "execution_count": 50,
   "metadata": {
    "collapsed": true
   },
   "outputs": [],
   "source": [
    "x = pd.read_pickle('x.pkl')\n",
    "y = pd.read_pickle('y.pkl')"
   ]
  },
  {
   "cell_type": "code",
   "execution_count": 51,
   "metadata": {},
   "outputs": [
    {
     "data": {
      "text/plain": [
       "SelectKBest(k=10, score_func=<function chi2 at 0x1a15019b70>)"
      ]
     },
     "execution_count": 51,
     "metadata": {},
     "output_type": "execute_result"
    }
   ],
   "source": [
    "sk_best = SelectKBest(chi2, 10)\n",
    "sk_best.fit(x, y)"
   ]
  },
  {
   "cell_type": "code",
   "execution_count": 52,
   "metadata": {},
   "outputs": [
    {
     "data": {
      "text/plain": [
       "array([False,  True,  True, False,  True, False,  True,  True,  True,\n",
       "        True,  True, False,  True,  True, False, False, False, False,\n",
       "       False, False, False, False, False, False, False, False, False,\n",
       "       False, False, False, False, False, False, False, False, False,\n",
       "       False, False, False, False, False, False, False, False, False,\n",
       "       False, False, False, False, False, False], dtype=bool)"
      ]
     },
     "execution_count": 52,
     "metadata": {},
     "output_type": "execute_result"
    }
   ],
   "source": [
    "sk_best.get_support()"
   ]
  },
  {
   "cell_type": "code",
   "execution_count": 53,
   "metadata": {},
   "outputs": [
    {
     "data": {
      "text/plain": [
       "51"
      ]
     },
     "execution_count": 53,
     "metadata": {},
     "output_type": "execute_result"
    }
   ],
   "source": [
    "len(sk_best.get_support())"
   ]
  },
  {
   "cell_type": "code",
   "execution_count": 54,
   "metadata": {},
   "outputs": [
    {
     "data": {
      "text/html": [
       "<div>\n",
       "<style>\n",
       "    .dataframe thead tr:only-child th {\n",
       "        text-align: right;\n",
       "    }\n",
       "\n",
       "    .dataframe thead th {\n",
       "        text-align: left;\n",
       "    }\n",
       "\n",
       "    .dataframe tbody tr th {\n",
       "        vertical-align: top;\n",
       "    }\n",
       "</style>\n",
       "<table border=\"1\" class=\"dataframe\">\n",
       "  <thead>\n",
       "    <tr style=\"text-align: right;\">\n",
       "      <th></th>\n",
       "      <th>review_count</th>\n",
       "      <th>0.5m_count</th>\n",
       "      <th>1m_count</th>\n",
       "      <th>2m_count</th>\n",
       "      <th>2m_count_similar</th>\n",
       "      <th>3m_count</th>\n",
       "      <th>3m_count_similar</th>\n",
       "      <th>is_fastfood</th>\n",
       "      <th>income</th>\n",
       "      <th>is_chain</th>\n",
       "    </tr>\n",
       "  </thead>\n",
       "  <tbody>\n",
       "    <tr>\n",
       "      <th>0</th>\n",
       "      <td>29.0</td>\n",
       "      <td>12</td>\n",
       "      <td>18</td>\n",
       "      <td>55</td>\n",
       "      <td>25</td>\n",
       "      <td>112</td>\n",
       "      <td>36</td>\n",
       "      <td>True</td>\n",
       "      <td>53800.0</td>\n",
       "      <td>True</td>\n",
       "    </tr>\n",
       "    <tr>\n",
       "      <th>1</th>\n",
       "      <td>182.0</td>\n",
       "      <td>21</td>\n",
       "      <td>44</td>\n",
       "      <td>98</td>\n",
       "      <td>23</td>\n",
       "      <td>167</td>\n",
       "      <td>35</td>\n",
       "      <td>False</td>\n",
       "      <td>84000.0</td>\n",
       "      <td>True</td>\n",
       "    </tr>\n",
       "    <tr>\n",
       "      <th>2</th>\n",
       "      <td>99.0</td>\n",
       "      <td>5</td>\n",
       "      <td>30</td>\n",
       "      <td>80</td>\n",
       "      <td>24</td>\n",
       "      <td>136</td>\n",
       "      <td>34</td>\n",
       "      <td>False</td>\n",
       "      <td>27835.0</td>\n",
       "      <td>True</td>\n",
       "    </tr>\n",
       "    <tr>\n",
       "      <th>3</th>\n",
       "      <td>21.0</td>\n",
       "      <td>9</td>\n",
       "      <td>32</td>\n",
       "      <td>83</td>\n",
       "      <td>16</td>\n",
       "      <td>241</td>\n",
       "      <td>30</td>\n",
       "      <td>False</td>\n",
       "      <td>42807.0</td>\n",
       "      <td>True</td>\n",
       "    </tr>\n",
       "    <tr>\n",
       "      <th>4</th>\n",
       "      <td>109.0</td>\n",
       "      <td>26</td>\n",
       "      <td>59</td>\n",
       "      <td>112</td>\n",
       "      <td>23</td>\n",
       "      <td>148</td>\n",
       "      <td>36</td>\n",
       "      <td>True</td>\n",
       "      <td>103562.0</td>\n",
       "      <td>True</td>\n",
       "    </tr>\n",
       "  </tbody>\n",
       "</table>\n",
       "</div>"
      ],
      "text/plain": [
       "   review_count  0.5m_count  1m_count  2m_count  2m_count_similar  3m_count  \\\n",
       "0          29.0          12        18        55                25       112   \n",
       "1         182.0          21        44        98                23       167   \n",
       "2          99.0           5        30        80                24       136   \n",
       "3          21.0           9        32        83                16       241   \n",
       "4         109.0          26        59       112                23       148   \n",
       "\n",
       "   3m_count_similar  is_fastfood    income  is_chain  \n",
       "0                36         True   53800.0      True  \n",
       "1                35        False   84000.0      True  \n",
       "2                34        False   27835.0      True  \n",
       "3                30        False   42807.0      True  \n",
       "4                36         True  103562.0      True  "
      ]
     },
     "execution_count": 54,
     "metadata": {},
     "output_type": "execute_result"
    }
   ],
   "source": [
    "new_x = x.iloc[:, sk_best.get_support()]\n",
    "new_x.head()"
   ]
  },
  {
   "cell_type": "code",
   "execution_count": 55,
   "metadata": {},
   "outputs": [],
   "source": [
    "x_train, x_test, y_train, y_test = train_test_split(new_x, y, test_size = 0.2, random_state = 10,\\\n",
    "                                                    stratify = y)"
   ]
  },
  {
   "cell_type": "code",
   "execution_count": 56,
   "metadata": {},
   "outputs": [
    {
     "name": "stdout",
     "output_type": "stream",
     "text": [
      "Accuracy:  0.758672699849\n",
      "Precision:  0.533333333333\n",
      "Recall:  0.514619883041\n",
      "F1 Score:  0.52380952381\n",
      "Confusion Matrix:\n",
      " [[415  77]\n",
      " [ 83  88]]\n",
      "Avg. 10-fold Cross Validation Accuracy:  0.732570159793\n"
     ]
    }
   ],
   "source": [
    "tree_clf = DecisionTreeClassifier()\n",
    "tree_clf.fit(x_train, y_train)\n",
    "y_pred = tree_clf.predict(x_test)\n",
    "print('Accuracy: ',tree_clf.score(x_test, y_test))\n",
    "print('Precision: ',precision_score(y_test, y_pred))\n",
    "print('Recall: ', recall_score(y_test,y_pred))\n",
    "print('F1 Score: ',f1_score(y_test.values,y_pred))\n",
    "print('Confusion Matrix:\\n',confusion_matrix(y_test.values, y_pred))\n",
    "dt_scores = cross_val_score(tree_clf, x, y, cv=10)\n",
    "print('Avg. 10-fold Cross Validation Accuracy: ', np.mean(dt_scores))"
   ]
  },
  {
   "cell_type": "code",
   "execution_count": 57,
   "metadata": {},
   "outputs": [
    {
     "name": "stdout",
     "output_type": "stream",
     "text": [
      "Accuracy:  0.794871794872\n",
      "Precision:  0.649572649573\n",
      "Recall:  0.444444444444\n",
      "F1 Score:  0.527777777778\n",
      "Confusion Matrix:\n",
      " [[451  41]\n",
      " [ 95  76]]\n",
      "Avg. 10-fold Cross Validation Accuracy:  0.790838277582\n"
     ]
    }
   ],
   "source": [
    "rf_clf = RandomForestClassifier()\n",
    "rf_clf.fit(x_train, y_train)\n",
    "y_pred = rf_clf.predict(x_test)\n",
    "print('Accuracy: ',rf_clf.score(x_test, y_test))\n",
    "print('Precision: ',precision_score(y_test, y_pred))\n",
    "print('Recall: ', recall_score(y_test, y_pred))\n",
    "print('F1 Score: ',f1_score(y_test, y_pred))\n",
    "print('Confusion Matrix:\\n',confusion_matrix(y_test, y_pred))\n",
    "dt_scores = cross_val_score(rf_clf, x, y, cv=10)\n",
    "print('Avg. 10-fold Cross Validation Accuracy: ', np.mean(dt_scores))"
   ]
  },
  {
   "cell_type": "code",
   "execution_count": 58,
   "metadata": {},
   "outputs": [
    {
     "name": "stdout",
     "output_type": "stream",
     "text": [
      "Accuracy:  0.800904977376\n",
      "Precision:  0.678899082569\n",
      "Recall:  0.432748538012\n",
      "F1 Score:  0.528571428571\n",
      "Confusion Matrix:\n",
      " [[457  35]\n",
      " [ 97  74]]\n",
      "Avg. 10-fold Cross Validation Accuracy:  0.805325228406\n"
     ]
    }
   ],
   "source": [
    "ab_clf = AdaBoostClassifier()\n",
    "ab_clf.fit(x_train, y_train)\n",
    "y_pred = ab_clf.predict(x_test)\n",
    "print('Accuracy: ',ab_clf.score(x_test, y_test))\n",
    "print('Precision: ',precision_score(y_test, y_pred))\n",
    "print('Recall: ', recall_score(y_test, y_pred))\n",
    "print('F1 Score: ',f1_score(y_test, y_pred))\n",
    "print('Confusion Matrix:\\n',confusion_matrix(y_test, y_pred))\n",
    "dt_scores = cross_val_score(ab_clf, x, y, cv=10)\n",
    "print('Avg. 10-fold Cross Validation Accuracy: ', np.mean(dt_scores))"
   ]
  },
  {
   "cell_type": "code",
   "execution_count": 59,
   "metadata": {},
   "outputs": [
    {
     "name": "stdout",
     "output_type": "stream",
     "text": [
      "Accuracy:  0.734539969834\n",
      "Precision:  0.477477477477\n",
      "Recall:  0.309941520468\n",
      "F1 Score:  0.375886524823\n",
      "Confusion Matrix:\n",
      " [[434  58]\n",
      " [118  53]]\n",
      "Avg. 10-fold Cross Validation Accuracy:  0.706620136134\n"
     ]
    }
   ],
   "source": [
    "knn_clf = KNeighborsClassifier()\n",
    "knn_clf.fit(x_train, y_train)\n",
    "y_pred = knn_clf.predict(x_test)\n",
    "print('Accuracy: ',knn_clf.score(x_test, y_test))\n",
    "print('Precision: ',precision_score(y_test, y_pred))\n",
    "print('Recall: ', recall_score(y_test, y_pred))\n",
    "print('F1 Score: ',f1_score(y_test, y_pred))\n",
    "print('Confusion Matrix:\\n',confusion_matrix(y_test, y_pred))\n",
    "dt_scores = cross_val_score(knn_clf, x, y, cv=10)\n",
    "print('Avg. 10-fold Cross Validation Accuracy: ', np.mean(dt_scores))"
   ]
  },
  {
   "cell_type": "code",
   "execution_count": 60,
   "metadata": {},
   "outputs": [
    {
     "name": "stdout",
     "output_type": "stream",
     "text": [
      "Accuracy:  0.757164404223\n",
      "Precision:  0.5625\n",
      "Recall:  0.263157894737\n",
      "F1 Score:  0.358565737052\n",
      "Confusion Matrix:\n",
      " [[457  35]\n",
      " [126  45]]\n",
      "Avg. 10-fold Cross Validation Accuracy:  0.736489462381\n"
     ]
    }
   ],
   "source": [
    "nb_clf = GaussianNB()\n",
    "nb_clf.fit(x_train, y_train)\n",
    "y_pred = nb_clf.predict(x_test)\n",
    "print('Accuracy: ',nb_clf.score(x_test, y_test))\n",
    "print('Precision: ',precision_score(y_test, y_pred))\n",
    "print('Recall: ', recall_score(y_test, y_pred))\n",
    "print('F1 Score: ',f1_score(y_test, y_pred))\n",
    "print('Confusion Matrix:\\n',confusion_matrix(y_test, y_pred))\n",
    "dt_scores = cross_val_score(nb_clf, x, y, cv=10)\n",
    "print('Avg. 10-fold Cross Validation Accuracy: ', np.mean(dt_scores))"
   ]
  },
  {
   "cell_type": "code",
   "execution_count": 61,
   "metadata": {},
   "outputs": [
    {
     "name": "stdout",
     "output_type": "stream",
     "text": [
      "Accuracy:  0.749622926094\n",
      "Precision:  1.0\n",
      "Recall:  0.0292397660819\n",
      "F1 Score:  0.0568181818182\n",
      "Confusion Matrix:\n",
      " [[492   0]\n",
      " [166   5]]\n",
      "Avg. 10-fold Cross Validation Accuracy:  0.742832963273\n"
     ]
    }
   ],
   "source": [
    "svm_clf = SVC(probability=True)\n",
    "svm_clf.fit(x_train, y_train)\n",
    "y_pred = svm_clf.predict(x_test)\n",
    "print('Accuracy: ',svm_clf.score(x_test, y_test))\n",
    "print('Precision: ',precision_score(y_test, y_pred))\n",
    "print('Recall: ', recall_score(y_test, y_pred))\n",
    "print('F1 Score: ',f1_score(y_test, y_pred))\n",
    "print('Confusion Matrix:\\n',confusion_matrix(y_test, y_pred))\n",
    "dt_scores = cross_val_score(svm_clf, x, y, cv=10)\n",
    "print('Avg. 10-fold Cross Validation Accuracy: ', np.mean(dt_scores))"
   ]
  },
  {
   "cell_type": "code",
   "execution_count": 62,
   "metadata": {},
   "outputs": [
    {
     "data": {
      "text/plain": [
       "<matplotlib.legend.Legend at 0x1a1bc72278>"
      ]
     },
     "execution_count": 62,
     "metadata": {},
     "output_type": "execute_result"
    },
    {
     "data": {
      "image/png": "[encoded data removed]",
      "text/plain": [
       "<Figure size 432x288 with 1 Axes>"
      ]
     },
     "metadata": {},
     "output_type": "display_data"
    }
   ],
   "source": [
    "#ROC Curve\n",
    "y_score_tree = tree_clf.predict_proba(x_test)[:,1]\n",
    "y_score_rf = rf_clf.predict_proba(x_test)[:,1]\n",
    "y_score_ab = ab_clf.predict_proba(x_test)[:,1]\n",
    "y_score_knn = knn_clf.predict_proba(x_test)[:,1]\n",
    "y_score_nb = nb_clf.predict_proba(x_test)[:,1]\n",
    "# y_score_svm = svm_clf.predict_proba(x_test)\n",
    "fpr_tree, tpr_tree, _ = roc_curve(y_test, y_score_tree)\n",
    "fpr_rf, tpr_rf, _ = roc_curve(y_test,y_score_rf)\n",
    "fpr_ab, tpr_ab, _ = roc_curve(y_test,y_score_ab)\n",
    "fpr_knn, tpr_knn, _ = roc_curve(y_test,y_score_knn)\n",
    "fpr_nb, tpr_nb, _ = roc_curve(y_test,y_score_nb)\n",
    "# fpr_svm, tpr_svm, _ = roc_curve(y_test,y_score_svm)\n",
    "plt.plot([0,1],[0,1],'k--')\n",
    "\n",
    "plt.plot(fpr_tree,tpr_tree,label='Decision Tree')\n",
    "plt.plot(fpr_rf,tpr_rf,label='RandomForest')\n",
    "plt.plot(fpr_ab,tpr_ab,label='Adaboost')\n",
    "plt.plot(fpr_knn,tpr_knn,label='KNN')\n",
    "plt.plot(fpr_nb,tpr_nb,label='Naive Bayes')\n",
    "# plt.plot(fpr_svm,tpr_svm,label='SVM')\n",
    "\n",
    "plt.xlim([0.0, 1.0])\n",
    "plt.ylim([0.0, 1.05])\n",
    "plt.title('ROC Curves')\n",
    "plt.xlabel('False Positive Rate')\n",
    "plt.ylabel('True Positive Rate')\n",
    "plt.legend()"
   ]
  },
  {
   "cell_type": "code",
   "execution_count": 63,
   "metadata": {},
   "outputs": [
    {
     "name": "stdout",
     "output_type": "stream",
     "text": [
      "Feature ranking:\n",
      "1. review_count (0.314142)\n",
      "2. 3m_count (0.106020)\n",
      "3. 2m_count (0.101000)\n",
      "4. 1m_count (0.100391)\n",
      "5. 3m_count_similar (0.089604)\n",
      "6. income (0.075173)\n",
      "7. 0.5m_count (0.075097)\n",
      "8. 2m_count_similar (0.059456)\n",
      "9. is_chain (0.050591)\n",
      "10. is_fastfood (0.028525)\n"
     ]
    }
   ],
   "source": [
    "importances = tree_clf.feature_importances_\n",
    "indices = np.argsort(importances)[::-1]\n",
    "# Print the feature ranking\n",
    "print(\"Feature ranking:\")\n",
    "for f in range(10):\n",
    "    print(\"%d. %s (%f)\" % (f + 1, new_x.iloc[:,indices[f]].name, importances[indices[f]]))"
   ]
  },
  {
   "cell_type": "code",
   "execution_count": 64,
   "metadata": {},
   "outputs": [
    {
     "data": {
      "text/plain": [
       "(-1, 10)"
      ]
     },
     "execution_count": 64,
     "metadata": {},
     "output_type": "execute_result"
    },
    {
     "data": {
      "image/png": "[encoded data removed]",
      "text/plain": [
       "<Figure size 720x504 with 1 Axes>"
      ]
     },
     "metadata": {},
     "output_type": "display_data"
    }
   ],
   "source": [
    "plt.figure(figsize=(10,7))\n",
    "plt.title(\"Feature importance\")\n",
    "plt.barh(range(x_test.shape[1])[:10], importances[indices][:10],align=\"center\")\n",
    "plt.yticks(range(x_test.shape[1])[:10], new_x.iloc[:,indices].columns)\n",
    "plt.ylim([-1, 10])"
   ]
  },
  {
   "cell_type": "code",
   "execution_count": null,
   "metadata": {
    "collapsed": true
   },
   "outputs": [],
   "source": []
  }
 ],
 "metadata": {
  "kernelspec": {
   "display_name": "Python 3",
   "language": "python",
   "name": "python3"
  },
  "language_info": {
   "codemirror_mode": {
    "name": "ipython",
    "version": 3
   },
   "file_extension": ".py",
   "mimetype": "text/x-python",
   "name": "python",
   "nbconvert_exporter": "python",
   "pygments_lexer": "ipython3",
   "version": "3.6.5"
  }
 },
 "nbformat": 4,
 "nbformat_minor": 2
}
