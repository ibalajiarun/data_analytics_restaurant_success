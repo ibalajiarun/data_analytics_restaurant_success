{
 "cells": [
  {
   "cell_type": "code",
   "execution_count": 57,
   "metadata": {
    "collapsed": true
   },
   "outputs": [],
   "source": [
    "import pandas as pd\n",
    "import numpy as np\n",
    "from sklearn.feature_selection import *\n",
    "from sklearn.tree import DecisionTreeClassifier\n",
    "from sklearn.naive_bayes import GaussianNB\n",
    "from sklearn.ensemble import RandomForestClassifier, AdaBoostClassifier\n",
    "from sklearn.neighbors import KNeighborsClassifier\n",
    "from sklearn.svm import SVC\n",
    "from sklearn.model_selection import cross_val_score\n",
    "from sklearn.model_selection import train_test_split\n",
    "from sklearn.metrics import f1_score\n",
    "from sklearn.metrics import confusion_matrix\n",
    "from sklearn.metrics import roc_curve\n",
    "from sklearn.metrics import precision_score\n",
    "from sklearn.metrics import recall_score\n",
    "from sklearn.linear_model import LogisticRegression\n",
    "import matplotlib.pyplot as plt\n",
    "%matplotlib inline"
   ]
  },
  {
   "cell_type": "code",
   "execution_count": 58,
   "metadata": {
    "collapsed": true
   },
   "outputs": [],
   "source": [
    "x = pd.read_pickle('x.pkl')\n",
    "y = pd.read_pickle('y.pkl')"
   ]
  },
  {
   "cell_type": "code",
   "execution_count": 59,
   "metadata": {},
   "outputs": [],
   "source": [
    "df = x.copy()\n",
    "df['is_closed'] = y\n",
    "df = df[df['is_fastfood'] == False]\n",
    "x = df.copy()\n",
    "del x['is_closed']\n",
    "y = df['is_closed'].copy()"
   ]
  },
  {
   "cell_type": "code",
   "execution_count": 60,
   "metadata": {},
   "outputs": [
    {
     "data": {
      "text/html": [
       "<div>\n",
       "<style>\n",
       "    .dataframe thead tr:only-child th {\n",
       "        text-align: right;\n",
       "    }\n",
       "\n",
       "    .dataframe thead th {\n",
       "        text-align: left;\n",
       "    }\n",
       "\n",
       "    .dataframe tbody tr th {\n",
       "        vertical-align: top;\n",
       "    }\n",
       "</style>\n",
       "<table border=\"1\" class=\"dataframe\">\n",
       "  <thead>\n",
       "    <tr style=\"text-align: right;\">\n",
       "      <th></th>\n",
       "      <th>rating</th>\n",
       "      <th>review_count</th>\n",
       "      <th>0.5m_count</th>\n",
       "      <th>0.5m_count_similar</th>\n",
       "      <th>1m_count</th>\n",
       "      <th>1m_count_similar</th>\n",
       "      <th>2m_count</th>\n",
       "      <th>2m_count_similar</th>\n",
       "      <th>3m_count</th>\n",
       "      <th>3m_count_similar</th>\n",
       "      <th>...</th>\n",
       "      <th>OutdoorSeating</th>\n",
       "      <th>RestaurantsAttire</th>\n",
       "      <th>RestaurantsDelivery</th>\n",
       "      <th>RestaurantsGoodForGroups</th>\n",
       "      <th>RestaurantsPriceRange2</th>\n",
       "      <th>RestaurantsReservations</th>\n",
       "      <th>RestaurantsTableService</th>\n",
       "      <th>RestaurantsTakeOut</th>\n",
       "      <th>WiFi</th>\n",
       "      <th>cuisine_y</th>\n",
       "    </tr>\n",
       "  </thead>\n",
       "  <tbody>\n",
       "    <tr>\n",
       "      <th>1</th>\n",
       "      <td>3.5</td>\n",
       "      <td>182.0</td>\n",
       "      <td>21</td>\n",
       "      <td>9</td>\n",
       "      <td>44</td>\n",
       "      <td>13</td>\n",
       "      <td>98</td>\n",
       "      <td>23</td>\n",
       "      <td>167</td>\n",
       "      <td>35</td>\n",
       "      <td>...</td>\n",
       "      <td>1</td>\n",
       "      <td>0</td>\n",
       "      <td>1</td>\n",
       "      <td>1</td>\n",
       "      <td>2.0</td>\n",
       "      <td>0</td>\n",
       "      <td>0</td>\n",
       "      <td>1</td>\n",
       "      <td>1</td>\n",
       "      <td>25</td>\n",
       "    </tr>\n",
       "    <tr>\n",
       "      <th>2</th>\n",
       "      <td>3.5</td>\n",
       "      <td>99.0</td>\n",
       "      <td>5</td>\n",
       "      <td>3</td>\n",
       "      <td>30</td>\n",
       "      <td>11</td>\n",
       "      <td>80</td>\n",
       "      <td>24</td>\n",
       "      <td>136</td>\n",
       "      <td>34</td>\n",
       "      <td>...</td>\n",
       "      <td>0</td>\n",
       "      <td>0</td>\n",
       "      <td>0</td>\n",
       "      <td>1</td>\n",
       "      <td>2.0</td>\n",
       "      <td>0</td>\n",
       "      <td>0</td>\n",
       "      <td>1</td>\n",
       "      <td>0</td>\n",
       "      <td>49</td>\n",
       "    </tr>\n",
       "    <tr>\n",
       "      <th>3</th>\n",
       "      <td>3.0</td>\n",
       "      <td>21.0</td>\n",
       "      <td>9</td>\n",
       "      <td>5</td>\n",
       "      <td>32</td>\n",
       "      <td>10</td>\n",
       "      <td>83</td>\n",
       "      <td>16</td>\n",
       "      <td>241</td>\n",
       "      <td>30</td>\n",
       "      <td>...</td>\n",
       "      <td>1</td>\n",
       "      <td>0</td>\n",
       "      <td>0</td>\n",
       "      <td>1</td>\n",
       "      <td>2.0</td>\n",
       "      <td>1</td>\n",
       "      <td>0</td>\n",
       "      <td>1</td>\n",
       "      <td>0</td>\n",
       "      <td>40</td>\n",
       "    </tr>\n",
       "    <tr>\n",
       "      <th>5</th>\n",
       "      <td>4.0</td>\n",
       "      <td>9.0</td>\n",
       "      <td>5</td>\n",
       "      <td>1</td>\n",
       "      <td>14</td>\n",
       "      <td>2</td>\n",
       "      <td>45</td>\n",
       "      <td>7</td>\n",
       "      <td>135</td>\n",
       "      <td>15</td>\n",
       "      <td>...</td>\n",
       "      <td>1</td>\n",
       "      <td>0</td>\n",
       "      <td>0</td>\n",
       "      <td>0</td>\n",
       "      <td>1.0</td>\n",
       "      <td>0</td>\n",
       "      <td>0</td>\n",
       "      <td>1</td>\n",
       "      <td>1</td>\n",
       "      <td>0</td>\n",
       "    </tr>\n",
       "    <tr>\n",
       "      <th>6</th>\n",
       "      <td>4.5</td>\n",
       "      <td>1550.0</td>\n",
       "      <td>22</td>\n",
       "      <td>3</td>\n",
       "      <td>83</td>\n",
       "      <td>5</td>\n",
       "      <td>165</td>\n",
       "      <td>6</td>\n",
       "      <td>267</td>\n",
       "      <td>7</td>\n",
       "      <td>...</td>\n",
       "      <td>1</td>\n",
       "      <td>0</td>\n",
       "      <td>0</td>\n",
       "      <td>1</td>\n",
       "      <td>2.0</td>\n",
       "      <td>0</td>\n",
       "      <td>1</td>\n",
       "      <td>1</td>\n",
       "      <td>0</td>\n",
       "      <td>6</td>\n",
       "    </tr>\n",
       "  </tbody>\n",
       "</table>\n",
       "<p>5 rows × 51 columns</p>\n",
       "</div>"
      ],
      "text/plain": [
       "   rating  review_count  0.5m_count  0.5m_count_similar  1m_count  \\\n",
       "1     3.5         182.0          21                   9        44   \n",
       "2     3.5          99.0           5                   3        30   \n",
       "3     3.0          21.0           9                   5        32   \n",
       "5     4.0           9.0           5                   1        14   \n",
       "6     4.5        1550.0          22                   3        83   \n",
       "\n",
       "   1m_count_similar  2m_count  2m_count_similar  3m_count  3m_count_similar  \\\n",
       "1                13        98                23       167                35   \n",
       "2                11        80                24       136                34   \n",
       "3                10        83                16       241                30   \n",
       "5                 2        45                 7       135                15   \n",
       "6                 5       165                 6       267                 7   \n",
       "\n",
       "     ...      OutdoorSeating  RestaurantsAttire  RestaurantsDelivery  \\\n",
       "1    ...                   1                  0                    1   \n",
       "2    ...                   0                  0                    0   \n",
       "3    ...                   1                  0                    0   \n",
       "5    ...                   1                  0                    0   \n",
       "6    ...                   1                  0                    0   \n",
       "\n",
       "   RestaurantsGoodForGroups  RestaurantsPriceRange2  RestaurantsReservations  \\\n",
       "1                         1                     2.0                        0   \n",
       "2                         1                     2.0                        0   \n",
       "3                         1                     2.0                        1   \n",
       "5                         0                     1.0                        0   \n",
       "6                         1                     2.0                        0   \n",
       "\n",
       "   RestaurantsTableService  RestaurantsTakeOut  WiFi  cuisine_y  \n",
       "1                        0                   1     1         25  \n",
       "2                        0                   1     0         49  \n",
       "3                        0                   1     0         40  \n",
       "5                        0                   1     1          0  \n",
       "6                        1                   1     0          6  \n",
       "\n",
       "[5 rows x 51 columns]"
      ]
     },
     "execution_count": 60,
     "metadata": {},
     "output_type": "execute_result"
    }
   ],
   "source": [
    "x.head()"
   ]
  },
  {
   "cell_type": "code",
   "execution_count": 61,
   "metadata": {},
   "outputs": [
    {
     "data": {
      "text/plain": [
       "1    0\n",
       "2    0\n",
       "3    0\n",
       "5    0\n",
       "6    0\n",
       "Name: is_closed, dtype: int64"
      ]
     },
     "execution_count": 61,
     "metadata": {},
     "output_type": "execute_result"
    }
   ],
   "source": [
    "y.head()"
   ]
  },
  {
   "cell_type": "code",
   "execution_count": 62,
   "metadata": {},
   "outputs": [
    {
     "data": {
      "text/plain": [
       "SelectKBest(k=5, score_func=<function chi2 at 0x1a19fc92f0>)"
      ]
     },
     "execution_count": 62,
     "metadata": {},
     "output_type": "execute_result"
    }
   ],
   "source": [
    "sk_best = SelectKBest(chi2, 5)\n",
    "sk_best.fit(x, y)"
   ]
  },
  {
   "cell_type": "code",
   "execution_count": 63,
   "metadata": {},
   "outputs": [
    {
     "data": {
      "text/plain": [
       "array([False,  True, False, False,  True, False,  True, False,  True,\n",
       "       False, False, False,  True, False, False, False, False, False,\n",
       "       False, False, False, False, False, False, False, False, False,\n",
       "       False, False, False, False, False, False, False, False, False,\n",
       "       False, False, False, False, False, False, False, False, False,\n",
       "       False, False, False, False, False, False], dtype=bool)"
      ]
     },
     "execution_count": 63,
     "metadata": {},
     "output_type": "execute_result"
    }
   ],
   "source": [
    "sk_best.get_support()"
   ]
  },
  {
   "cell_type": "code",
   "execution_count": 64,
   "metadata": {
    "collapsed": true
   },
   "outputs": [],
   "source": [
    "x_train, x_test, y_train, y_test = train_test_split(x, y, test_size = 0.2, random_state = 10,\\\n",
    "                                                    stratify = y)"
   ]
  },
  {
   "cell_type": "code",
   "execution_count": 65,
   "metadata": {},
   "outputs": [
    {
     "name": "stdout",
     "output_type": "stream",
     "text": [
      "Accuracy:  0.749552772809\n",
      "Precision:  0.563636363636\n",
      "Recall:  0.577639751553\n",
      "F1 Score:  0.570552147239\n",
      "Confusion Matrix:\n",
      " [[326  72]\n",
      " [ 68  93]]\n",
      "Avg. 10-fold Cross Validation Accuracy:  0.717257598406\n"
     ]
    }
   ],
   "source": [
    "tree_clf = DecisionTreeClassifier()\n",
    "tree_clf.fit(x_train, y_train)\n",
    "y_pred = tree_clf.predict(x_test)\n",
    "print('Accuracy: ',tree_clf.score(x_test, y_test))\n",
    "print('Precision: ',precision_score(y_test, y_pred))\n",
    "print('Recall: ', recall_score(y_test,y_pred))\n",
    "print('F1 Score: ',f1_score(y_test.values,y_pred))\n",
    "print('Confusion Matrix:\\n',confusion_matrix(y_test.values, y_pred))\n",
    "dt_scores = cross_val_score(tree_clf, x_train, y_train, cv=10)\n",
    "print('Avg. 10-fold Cross Validation Accuracy: ', np.mean(dt_scores))"
   ]
  },
  {
   "cell_type": "code",
   "execution_count": 66,
   "metadata": {},
   "outputs": [
    {
     "name": "stdout",
     "output_type": "stream",
     "text": [
      "Accuracy:  0.785330948122\n",
      "Precision:  0.707070707071\n",
      "Recall:  0.434782608696\n",
      "F1 Score:  0.538461538462\n",
      "Confusion Matrix:\n",
      " [[369  29]\n",
      " [ 91  70]]\n",
      "Avg. 10-fold Cross Validation Accuracy:  0.768538724984\n"
     ]
    }
   ],
   "source": [
    "rf_clf = RandomForestClassifier()\n",
    "rf_clf.fit(x_train, y_train)\n",
    "y_pred = rf_clf.predict(x_test)\n",
    "print('Accuracy: ',rf_clf.score(x_test, y_test))\n",
    "print('Precision: ',precision_score(y_test, y_pred))\n",
    "print('Recall: ', recall_score(y_test, y_pred))\n",
    "print('F1 Score: ',f1_score(y_test, y_pred))\n",
    "print('Confusion Matrix:\\n',confusion_matrix(y_test, y_pred))\n",
    "dt_scores = cross_val_score(rf_clf, x, y, cv=10)\n",
    "print('Avg. 10-fold Cross Validation Accuracy: ', np.mean(dt_scores))"
   ]
  },
  {
   "cell_type": "code",
   "execution_count": 67,
   "metadata": {},
   "outputs": [
    {
     "name": "stdout",
     "output_type": "stream",
     "text": [
      "Accuracy:  0.810375670841\n",
      "Precision:  0.735042735043\n",
      "Recall:  0.534161490683\n",
      "F1 Score:  0.618705035971\n",
      "Confusion Matrix:\n",
      " [[367  31]\n",
      " [ 75  86]]\n",
      "Avg. 10-fold Cross Validation Accuracy:  0.781764567879\n"
     ]
    }
   ],
   "source": [
    "ab_clf = AdaBoostClassifier()\n",
    "ab_clf.fit(x_train, y_train)\n",
    "y_pred = ab_clf.predict(x_test)\n",
    "print('Accuracy: ',ab_clf.score(x_test, y_test))\n",
    "print('Precision: ',precision_score(y_test, y_pred))\n",
    "print('Recall: ', recall_score(y_test, y_pred))\n",
    "print('F1 Score: ',f1_score(y_test, y_pred))\n",
    "print('Confusion Matrix:\\n',confusion_matrix(y_test, y_pred))\n",
    "dt_scores = cross_val_score(ab_clf, x, y, cv=10)\n",
    "print('Avg. 10-fold Cross Validation Accuracy: ', np.mean(dt_scores))"
   ]
  },
  {
   "cell_type": "code",
   "execution_count": 68,
   "metadata": {},
   "outputs": [
    {
     "name": "stdout",
     "output_type": "stream",
     "text": [
      "Accuracy:  0.697674418605\n",
      "Precision:  0.460784313725\n",
      "Recall:  0.291925465839\n",
      "F1 Score:  0.357414448669\n",
      "Confusion Matrix:\n",
      " [[343  55]\n",
      " [114  47]]\n",
      "Avg. 10-fold Cross Validation Accuracy:  0.681212652129\n"
     ]
    }
   ],
   "source": [
    "knn_clf = KNeighborsClassifier()\n",
    "knn_clf.fit(x_train, y_train)\n",
    "y_pred = knn_clf.predict(x_test)\n",
    "print('Accuracy: ',knn_clf.score(x_test, y_test))\n",
    "print('Precision: ',precision_score(y_test, y_pred))\n",
    "print('Recall: ', recall_score(y_test, y_pred))\n",
    "print('F1 Score: ',f1_score(y_test, y_pred))\n",
    "print('Confusion Matrix:\\n',confusion_matrix(y_test, y_pred))\n",
    "dt_scores = cross_val_score(knn_clf, x, y, cv=10)\n",
    "print('Avg. 10-fold Cross Validation Accuracy: ', np.mean(dt_scores))"
   ]
  },
  {
   "cell_type": "code",
   "execution_count": 69,
   "metadata": {},
   "outputs": [
    {
     "name": "stdout",
     "output_type": "stream",
     "text": [
      "Accuracy:  0.704830053667\n",
      "Precision:  0.480769230769\n",
      "Recall:  0.310559006211\n",
      "F1 Score:  0.377358490566\n",
      "Confusion Matrix:\n",
      " [[344  54]\n",
      " [111  50]]\n",
      "Avg. 10-fold Cross Validation Accuracy:  0.714492340464\n"
     ]
    }
   ],
   "source": [
    "nb_clf = GaussianNB()\n",
    "nb_clf.fit(x_train, y_train)\n",
    "y_pred = nb_clf.predict(x_test)\n",
    "print('Accuracy: ',nb_clf.score(x_test, y_test))\n",
    "print('Precision: ',precision_score(y_test, y_pred))\n",
    "print('Recall: ', recall_score(y_test, y_pred))\n",
    "print('F1 Score: ',f1_score(y_test, y_pred))\n",
    "print('Confusion Matrix:\\n',confusion_matrix(y_test, y_pred))\n",
    "dt_scores = cross_val_score(nb_clf, x, y, cv=10)\n",
    "print('Avg. 10-fold Cross Validation Accuracy: ', np.mean(dt_scores))"
   ]
  },
  {
   "cell_type": "code",
   "execution_count": 70,
   "metadata": {},
   "outputs": [
    {
     "name": "stdout",
     "output_type": "stream",
     "text": [
      "Accuracy:  0.719141323792\n",
      "Precision:  1.0\n",
      "Recall:  0.0248447204969\n",
      "F1 Score:  0.0484848484848\n",
      "Confusion Matrix:\n",
      " [[398   0]\n",
      " [157   4]]\n",
      "Avg. 10-fold Cross Validation Accuracy:  0.713062498064\n"
     ]
    }
   ],
   "source": [
    "svm_clf = SVC(probability=True)\n",
    "svm_clf.fit(x_train, y_train)\n",
    "y_pred = svm_clf.predict(x_test)\n",
    "print('Accuracy: ',svm_clf.score(x_test, y_test))\n",
    "print('Precision: ',precision_score(y_test, y_pred))\n",
    "print('Recall: ', recall_score(y_test, y_pred))\n",
    "print('F1 Score: ',f1_score(y_test, y_pred))\n",
    "print('Confusion Matrix:\\n',confusion_matrix(y_test, y_pred))\n",
    "dt_scores = cross_val_score(svm_clf, x, y, cv=10)\n",
    "print('Avg. 10-fold Cross Validation Accuracy: ', np.mean(dt_scores))"
   ]
  },
  {
   "cell_type": "code",
   "execution_count": 71,
   "metadata": {},
   "outputs": [
    {
     "data": {
      "text/plain": [
       "<matplotlib.legend.Legend at 0x1a20a934e0>"
      ]
     },
     "execution_count": 71,
     "metadata": {},
     "output_type": "execute_result"
    },
    {
     "data": {
      "image/png": "[encoded data removed]",
      "text/plain": [
       "<Figure size 432x288 with 1 Axes>"
      ]
     },
     "metadata": {},
     "output_type": "display_data"
    }
   ],
   "source": [
    "#ROC Curve\n",
    "y_score_tree = tree_clf.predict_proba(x_test)[:,1]\n",
    "y_score_rf = rf_clf.predict_proba(x_test)[:,1]\n",
    "y_score_ab = ab_clf.predict_proba(x_test)[:,1]\n",
    "y_score_knn = knn_clf.predict_proba(x_test)[:,1]\n",
    "y_score_nb = nb_clf.predict_proba(x_test)[:,1]\n",
    "# y_score_svm = svm_clf.predict_proba(x_test)\n",
    "fpr_tree, tpr_tree, _ = roc_curve(y_test, y_score_tree)\n",
    "fpr_rf, tpr_rf, _ = roc_curve(y_test,y_score_rf)\n",
    "fpr_ab, tpr_ab, _ = roc_curve(y_test,y_score_ab)\n",
    "fpr_knn, tpr_knn, _ = roc_curve(y_test,y_score_knn)\n",
    "fpr_nb, tpr_nb, _ = roc_curve(y_test,y_score_nb)\n",
    "# fpr_svm, tpr_svm, _ = roc_curve(y_test,y_score_svm)\n",
    "plt.plot([0,1],[0,1],'k--')\n",
    "\n",
    "plt.plot(fpr_tree,tpr_tree,label='Decision Tree')\n",
    "plt.plot(fpr_rf,tpr_rf,label='RandomForest')\n",
    "plt.plot(fpr_ab,tpr_ab,label='Adaboost')\n",
    "plt.plot(fpr_knn,tpr_knn,label='KNN')\n",
    "plt.plot(fpr_nb,tpr_nb,label='Naive Bayes')\n",
    "# plt.plot(fpr_svm,tpr_svm,label='SVM')\n",
    "\n",
    "plt.xlim([0.0, 1.0])\n",
    "plt.ylim([0.0, 1.05])\n",
    "plt.title('ROC Curves')\n",
    "plt.xlabel('False Positive Rate')\n",
    "plt.ylabel('True Positive Rate')\n",
    "plt.legend()"
   ]
  },
  {
   "cell_type": "code",
   "execution_count": 72,
   "metadata": {},
   "outputs": [
    {
     "name": "stdout",
     "output_type": "stream",
     "text": [
      "Feature ranking:\n",
      "1. review_count (0.180000)\n",
      "2. 3m_count (0.120000)\n",
      "3. 3m_count_similar (0.120000)\n",
      "4. 1m_count (0.060000)\n",
      "5. cuisine_y (0.040000)\n",
      "6. 1m_count_similar (0.040000)\n",
      "7. 2m_count (0.040000)\n",
      "8. BusinessParking.lot (0.040000)\n",
      "9. income (0.040000)\n",
      "10. price_ordinal (0.020000)\n",
      "11. Ambience.trendy (0.020000)\n",
      "12. WiFi (0.020000)\n",
      "13. BusinessParking.garage (0.020000)\n",
      "14. BusinessParking.street (0.020000)\n",
      "15. Alcohol (0.020000)\n",
      "16. is_chain (0.020000)\n",
      "17. GoodForMeal.dessert (0.020000)\n",
      "18. GoodForMeal.brunch (0.020000)\n",
      "19. GoodForMeal.dinner (0.020000)\n",
      "20. GoodForMeal.latenight (0.020000)\n"
     ]
    }
   ],
   "source": [
    "importances = ab_clf.feature_importances_\n",
    "indices = np.argsort(importances)[::-1]\n",
    "# Print the feature ranking\n",
    "print(\"Feature ranking:\")\n",
    "for f in range(20):\n",
    "    print(\"%d. %s (%f)\" % (f + 1, x.iloc[:,indices[f]].name, importances[indices[f]]))"
   ]
  },
  {
   "cell_type": "code",
   "execution_count": 73,
   "metadata": {},
   "outputs": [
    {
     "data": {
      "text/plain": [
       "(-1, 10)"
      ]
     },
     "execution_count": 73,
     "metadata": {},
     "output_type": "execute_result"
    },
    {
     "data": {
      "image/png": "[encoded data removed]",
      "text/plain": [
       "<Figure size 720x504 with 1 Axes>"
      ]
     },
     "metadata": {},
     "output_type": "display_data"
    }
   ],
   "source": [
    "plt.figure(figsize=(10,7))\n",
    "plt.title(\"Feature importance\")\n",
    "plt.barh(range(x_test.shape[1])[:10], importances[indices][:10],align=\"center\")\n",
    "plt.yticks(range(x_test.shape[1])[:10], x.iloc[:,indices].columns)\n",
    "plt.ylim([-1, 10])"
   ]
  },
  {
   "cell_type": "code",
   "execution_count": 74,
   "metadata": {},
   "outputs": [
    {
     "data": {
      "text/plain": [
       "2795"
      ]
     },
     "execution_count": 74,
     "metadata": {},
     "output_type": "execute_result"
    }
   ],
   "source": [
    "len(x)"
   ]
  },
  {
   "cell_type": "code",
   "execution_count": null,
   "metadata": {
    "collapsed": true
   },
   "outputs": [],
   "source": []
  }
 ],
 "metadata": {
  "kernelspec": {
   "display_name": "Python 3",
   "language": "python",
   "name": "python3"
  },
  "language_info": {
   "codemirror_mode": {
    "name": "ipython",
    "version": 3
   },
   "file_extension": ".py",
   "mimetype": "text/x-python",
   "name": "python",
   "nbconvert_exporter": "python",
   "pygments_lexer": "ipython3",
   "version": "3.6.5"
  }
 },
 "nbformat": 4,
 "nbformat_minor": 2
}
