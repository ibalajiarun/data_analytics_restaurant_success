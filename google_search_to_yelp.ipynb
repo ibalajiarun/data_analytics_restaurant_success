{
 "cells": [
  {
   "cell_type": "code",
   "execution_count": 2,
   "metadata": {
    "collapsed": true
   },
   "outputs": [],
   "source": [
    "import pandas as pd"
   ]
  },
  {
   "cell_type": "code",
   "execution_count": 43,
   "metadata": {},
   "outputs": [
    {
     "data": {
      "text/html": [
       "<div>\n",
       "<style>\n",
       "    .dataframe thead tr:only-child th {\n",
       "        text-align: right;\n",
       "    }\n",
       "\n",
       "    .dataframe thead th {\n",
       "        text-align: left;\n",
       "    }\n",
       "\n",
       "    .dataframe tbody tr th {\n",
       "        vertical-align: top;\n",
       "    }\n",
       "</style>\n",
       "<table border=\"1\" class=\"dataframe\">\n",
       "  <thead>\n",
       "    <tr style=\"text-align: right;\">\n",
       "      <th></th>\n",
       "      <th>name</th>\n",
       "      <th>full_address</th>\n",
       "      <th>link</th>\n",
       "    </tr>\n",
       "  </thead>\n",
       "  <tbody>\n",
       "    <tr>\n",
       "      <th>0</th>\n",
       "      <td>Jersey Mike's Subs</td>\n",
       "      <td>891 E Baseline Rd, Suite 102, Gilbert, AZ 85233</td>\n",
       "      <td>jersey-mikes-subs-gilbert-2</td>\n",
       "    </tr>\n",
       "    <tr>\n",
       "      <th>1</th>\n",
       "      <td>Sauce</td>\n",
       "      <td>14418 N Scottsdale Rd, Suite 181, Scottsdale, ...</td>\n",
       "      <td>sauce-pizza-and-wine-scottsdale-2</td>\n",
       "    </tr>\n",
       "    <tr>\n",
       "      <th>2</th>\n",
       "      <td>Fuddruckers</td>\n",
       "      <td>8941 N Black Canyon Hwy, Phoenix, AZ 85021</td>\n",
       "      <td>fuddruckers-phoenix-3</td>\n",
       "    </tr>\n",
       "    <tr>\n",
       "      <th>3</th>\n",
       "      <td>Peter Piper Pizza</td>\n",
       "      <td>7607 E McDowell Road, Suite 101, Scottsdale, A...</td>\n",
       "      <td>peter-piper-pizza-scottsdale-4</td>\n",
       "    </tr>\n",
       "    <tr>\n",
       "      <th>4</th>\n",
       "      <td>Sofia's Mexican Food</td>\n",
       "      <td>616 E Pima Street, Gila Bend, AZ 85337</td>\n",
       "      <td>sofias-mexican-food-gila-bend</td>\n",
       "    </tr>\n",
       "  </tbody>\n",
       "</table>\n",
       "</div>"
      ],
      "text/plain": [
       "                   name                                       full_address  \\\n",
       "0    Jersey Mike's Subs    891 E Baseline Rd, Suite 102, Gilbert, AZ 85233   \n",
       "1                 Sauce  14418 N Scottsdale Rd, Suite 181, Scottsdale, ...   \n",
       "2           Fuddruckers         8941 N Black Canyon Hwy, Phoenix, AZ 85021   \n",
       "3     Peter Piper Pizza  7607 E McDowell Road, Suite 101, Scottsdale, A...   \n",
       "4  Sofia's Mexican Food             616 E Pima Street, Gila Bend, AZ 85337   \n",
       "\n",
       "                                link  \n",
       "0        jersey-mikes-subs-gilbert-2  \n",
       "1  sauce-pizza-and-wine-scottsdale-2  \n",
       "2              fuddruckers-phoenix-3  \n",
       "3     peter-piper-pizza-scottsdale-4  \n",
       "4      sofias-mexican-food-gila-bend  "
      ]
     },
     "execution_count": 43,
     "metadata": {},
     "output_type": "execute_result"
    }
   ],
   "source": [
    "final_unmerged_df = pd.read_pickle(\"final_unmerged_with_yelp_id_2.pkl\")\n",
    "final_unmerged_df.head()"
   ]
  },
  {
   "cell_type": "code",
   "execution_count": 44,
   "metadata": {},
   "outputs": [
    {
     "data": {
      "text/plain": [
       "63"
      ]
     },
     "execution_count": 44,
     "metadata": {},
     "output_type": "execute_result"
    }
   ],
   "source": [
    "df = final_unmerged_df.loc[final_unmerged_df['link'] == '']\n",
    "len(df)"
   ]
  },
  {
   "cell_type": "code",
   "execution_count": 6,
   "metadata": {
    "collapsed": true
   },
   "outputs": [],
   "source": [
    "df.to_csv(\"unmerged_no_link.csv\")"
   ]
  },
  {
   "cell_type": "code",
   "execution_count": 26,
   "metadata": {},
   "outputs": [
    {
     "name": "stdout",
     "output_type": "stream",
     "text": [
      "63\n"
     ]
    },
    {
     "data": {
      "text/html": [
       "<div>\n",
       "<style>\n",
       "    .dataframe thead tr:only-child th {\n",
       "        text-align: right;\n",
       "    }\n",
       "\n",
       "    .dataframe thead th {\n",
       "        text-align: left;\n",
       "    }\n",
       "\n",
       "    .dataframe tbody tr th {\n",
       "        vertical-align: top;\n",
       "    }\n",
       "</style>\n",
       "<table border=\"1\" class=\"dataframe\">\n",
       "  <thead>\n",
       "    <tr style=\"text-align: right;\">\n",
       "      <th></th>\n",
       "      <th>Unnamed: 0</th>\n",
       "      <th>name</th>\n",
       "      <th>full_address</th>\n",
       "      <th>Status</th>\n",
       "      <th>link</th>\n",
       "      <th>Comments</th>\n",
       "    </tr>\n",
       "  </thead>\n",
       "  <tbody>\n",
       "    <tr>\n",
       "      <th>0</th>\n",
       "      <td>31</td>\n",
       "      <td>Brother's Pizza</td>\n",
       "      <td>6635 W Happy Valley Road Suite A104, Glendale,...</td>\n",
       "      <td>Open</td>\n",
       "      <td>https://www.yelp.com/biz/brothers-pizza-glendale</td>\n",
       "      <td>NaN</td>\n",
       "    </tr>\n",
       "    <tr>\n",
       "      <th>1</th>\n",
       "      <td>82</td>\n",
       "      <td>Great Wok</td>\n",
       "      <td>3646 E Ray Rd, #12, Phoenix, AZ 85044</td>\n",
       "      <td>Open</td>\n",
       "      <td>https://www.yelp.com/biz/great-wok-phoenix</td>\n",
       "      <td>NaN</td>\n",
       "    </tr>\n",
       "    <tr>\n",
       "      <th>2</th>\n",
       "      <td>112</td>\n",
       "      <td>Siu Wok</td>\n",
       "      <td>3815 N Central Ave, #A, Phoenix, AZ 85012</td>\n",
       "      <td>Moved</td>\n",
       "      <td>https://www.yelp.com/biz/siu-wok-phoenix</td>\n",
       "      <td>2801</td>\n",
       "    </tr>\n",
       "    <tr>\n",
       "      <th>3</th>\n",
       "      <td>159</td>\n",
       "      <td>Island Teriyaki</td>\n",
       "      <td>5932 W Bell Road, Suite D112, Glendale, AZ 85308</td>\n",
       "      <td>Open</td>\n",
       "      <td>https://www.yelp.com/biz/island-teriyaki-glendale</td>\n",
       "      <td>NaN</td>\n",
       "    </tr>\n",
       "    <tr>\n",
       "      <th>4</th>\n",
       "      <td>166</td>\n",
       "      <td>Panda Express</td>\n",
       "      <td>921 N Dodson Rd, Mesa, AZ 85201</td>\n",
       "      <td>Open</td>\n",
       "      <td>https://www.yelp.com/biz/panda-express-mesa-13</td>\n",
       "      <td>NaN</td>\n",
       "    </tr>\n",
       "  </tbody>\n",
       "</table>\n",
       "</div>"
      ],
      "text/plain": [
       "   Unnamed: 0             name  \\\n",
       "0          31  Brother's Pizza   \n",
       "1          82        Great Wok   \n",
       "2         112          Siu Wok   \n",
       "3         159  Island Teriyaki   \n",
       "4         166    Panda Express   \n",
       "\n",
       "                                        full_address Status  \\\n",
       "0  6635 W Happy Valley Road Suite A104, Glendale,...   Open   \n",
       "1              3646 E Ray Rd, #12, Phoenix, AZ 85044   Open   \n",
       "2          3815 N Central Ave, #A, Phoenix, AZ 85012  Moved   \n",
       "3   5932 W Bell Road, Suite D112, Glendale, AZ 85308   Open   \n",
       "4                    921 N Dodson Rd, Mesa, AZ 85201   Open   \n",
       "\n",
       "                                                link Comments  \n",
       "0   https://www.yelp.com/biz/brothers-pizza-glendale      NaN  \n",
       "1         https://www.yelp.com/biz/great-wok-phoenix      NaN  \n",
       "2           https://www.yelp.com/biz/siu-wok-phoenix     2801  \n",
       "3  https://www.yelp.com/biz/island-teriyaki-glendale      NaN  \n",
       "4     https://www.yelp.com/biz/panda-express-mesa-13      NaN  "
      ]
     },
     "execution_count": 26,
     "metadata": {},
     "output_type": "execute_result"
    }
   ],
   "source": [
    "unmerged_no_link_fixed_df = pd.read_csv(\"../data/unmerged_no_link_fixed.csv\")\n",
    "print (len(unmerged_no_link_fixed_df))\n",
    "unmerged_no_link_fixed_df.head()"
   ]
  },
  {
   "cell_type": "code",
   "execution_count": 27,
   "metadata": {},
   "outputs": [
    {
     "name": "stdout",
     "output_type": "stream",
     "text": [
      "57\n"
     ]
    }
   ],
   "source": [
    "unmerged_no_link_fixed_df.dropna(subset=['link'], inplace=True)\n",
    "print (len(unmerged_no_link_fixed_df))"
   ]
  },
  {
   "cell_type": "code",
   "execution_count": 64,
   "metadata": {},
   "outputs": [],
   "source": [
    "unmerged_no_link_fixed_df['link'] = unmerged_no_link_fixed_df['link'].apply(lambda x: x.split('/')[-1])\n",
    "# del unmerged_no_link_fixed_df['Status']\n",
    "# del unmerged_no_link_fixed_df['Comments']\n",
    "# del unmerged_no_link_fixed_df['Unnamed: 0']\n",
    "unmerged_no_link_fixed_df.head()\n",
    "unmerged_no_link_fixed_df.to_pickle('unmerged_no_link_fixed_df.pkl')"
   ]
  },
  {
   "cell_type": "code",
   "execution_count": 53,
   "metadata": {},
   "outputs": [],
   "source": [
    "final_unmerged_df.loc[final_unmerged_df['link'] != ''].to_csv(\"final_unmerged_df_with_link.csv\")\n",
    "# final_unmerged_df.loc[5, 'link'] = 'five-guys-scottsdale'"
   ]
  },
  {
   "cell_type": "code",
   "execution_count": 58,
   "metadata": {},
   "outputs": [
    {
     "data": {
      "text/html": [
       "<div>\n",
       "<style>\n",
       "    .dataframe thead tr:only-child th {\n",
       "        text-align: right;\n",
       "    }\n",
       "\n",
       "    .dataframe thead th {\n",
       "        text-align: left;\n",
       "    }\n",
       "\n",
       "    .dataframe tbody tr th {\n",
       "        vertical-align: top;\n",
       "    }\n",
       "</style>\n",
       "<table border=\"1\" class=\"dataframe\">\n",
       "  <thead>\n",
       "    <tr style=\"text-align: right;\">\n",
       "      <th></th>\n",
       "      <th>Unnamed: 0</th>\n",
       "      <th>name</th>\n",
       "      <th>full_address</th>\n",
       "      <th>link</th>\n",
       "    </tr>\n",
       "  </thead>\n",
       "  <tbody>\n",
       "    <tr>\n",
       "      <th>0</th>\n",
       "      <td>0</td>\n",
       "      <td>Jersey Mike's Subs</td>\n",
       "      <td>891 E Baseline Rd, Suite 102, Gilbert, AZ 85233</td>\n",
       "      <td>jersey-mikes-subs-gilbert-2</td>\n",
       "    </tr>\n",
       "    <tr>\n",
       "      <th>1</th>\n",
       "      <td>1</td>\n",
       "      <td>Sauce</td>\n",
       "      <td>14418 N Scottsdale Rd, Suite 181, Scottsdale, ...</td>\n",
       "      <td>sauce-pizza-and-wine-scottsdale-2</td>\n",
       "    </tr>\n",
       "    <tr>\n",
       "      <th>2</th>\n",
       "      <td>2</td>\n",
       "      <td>Fuddruckers</td>\n",
       "      <td>8941 N Black Canyon Hwy, Phoenix, AZ 85021</td>\n",
       "      <td>fuddruckers-phoenix-3</td>\n",
       "    </tr>\n",
       "    <tr>\n",
       "      <th>3</th>\n",
       "      <td>3</td>\n",
       "      <td>Peter Piper Pizza</td>\n",
       "      <td>7607 E McDowell Road, Suite 101, Scottsdale, A...</td>\n",
       "      <td>peter-piper-pizza-scottsdale-4</td>\n",
       "    </tr>\n",
       "    <tr>\n",
       "      <th>4</th>\n",
       "      <td>4</td>\n",
       "      <td>Sofia's Mexican Food</td>\n",
       "      <td>616 E Pima Street, Gila Bend, AZ 85337</td>\n",
       "      <td>sofias-mexican-food-gila-bend</td>\n",
       "    </tr>\n",
       "  </tbody>\n",
       "</table>\n",
       "</div>"
      ],
      "text/plain": [
       "   Unnamed: 0                  name  \\\n",
       "0           0    Jersey Mike's Subs   \n",
       "1           1                 Sauce   \n",
       "2           2           Fuddruckers   \n",
       "3           3     Peter Piper Pizza   \n",
       "4           4  Sofia's Mexican Food   \n",
       "\n",
       "                                        full_address  \\\n",
       "0    891 E Baseline Rd, Suite 102, Gilbert, AZ 85233   \n",
       "1  14418 N Scottsdale Rd, Suite 181, Scottsdale, ...   \n",
       "2         8941 N Black Canyon Hwy, Phoenix, AZ 85021   \n",
       "3  7607 E McDowell Road, Suite 101, Scottsdale, A...   \n",
       "4             616 E Pima Street, Gila Bend, AZ 85337   \n",
       "\n",
       "                                link  \n",
       "0        jersey-mikes-subs-gilbert-2  \n",
       "1  sauce-pizza-and-wine-scottsdale-2  \n",
       "2              fuddruckers-phoenix-3  \n",
       "3     peter-piper-pizza-scottsdale-4  \n",
       "4      sofias-mexican-food-gila-bend  "
      ]
     },
     "execution_count": 58,
     "metadata": {},
     "output_type": "execute_result"
    }
   ],
   "source": [
    "df = pd.read_csv('final_unmerged_df_with_link.csv')\n",
    "df.head()"
   ]
  },
  {
   "cell_type": "code",
   "execution_count": 62,
   "metadata": {},
   "outputs": [],
   "source": [
    "more_unmerged_no_link_df = df.loc[df['link'].isnull()]\n",
    "more_unmerged_no_link_df.to_csv('more_unmerged_no_link.csv')"
   ]
  },
  {
   "cell_type": "code",
   "execution_count": null,
   "metadata": {
    "collapsed": true
   },
   "outputs": [],
   "source": []
  }
 ],
 "metadata": {
  "kernelspec": {
   "display_name": "Python 3",
   "language": "python",
   "name": "python3"
  },
  "language_info": {
   "codemirror_mode": {
    "name": "ipython",
    "version": 3
   },
   "file_extension": ".py",
   "mimetype": "text/x-python",
   "name": "python",
   "nbconvert_exporter": "python",
   "pygments_lexer": "ipython3",
   "version": "3.6.1"
  }
 },
 "nbformat": 4,
 "nbformat_minor": 2
}
