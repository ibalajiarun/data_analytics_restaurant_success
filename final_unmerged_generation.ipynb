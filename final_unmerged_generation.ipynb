{
 "cells": [
  {
   "cell_type": "code",
   "execution_count": 1,
   "metadata": {
    "collapsed": true
   },
   "outputs": [],
   "source": [
    "import pandas as pd"
   ]
  },
  {
   "cell_type": "code",
   "execution_count": 17,
   "metadata": {},
   "outputs": [
    {
     "name": "stdout",
     "output_type": "stream",
     "text": [
      "1737\n",
      "1665\n"
     ]
    },
    {
     "data": {
      "text/html": [
       "<div>\n",
       "<style>\n",
       "    .dataframe thead tr:only-child th {\n",
       "        text-align: right;\n",
       "    }\n",
       "\n",
       "    .dataframe thead th {\n",
       "        text-align: left;\n",
       "    }\n",
       "\n",
       "    .dataframe tbody tr th {\n",
       "        vertical-align: top;\n",
       "    }\n",
       "</style>\n",
       "<table border=\"1\" class=\"dataframe\">\n",
       "  <thead>\n",
       "    <tr style=\"text-align: right;\">\n",
       "      <th></th>\n",
       "      <th>name</th>\n",
       "      <th>full_address</th>\n",
       "      <th>link</th>\n",
       "    </tr>\n",
       "  </thead>\n",
       "  <tbody>\n",
       "    <tr>\n",
       "      <th>0</th>\n",
       "      <td>Jersey Mike's Subs</td>\n",
       "      <td>891 E Baseline Rd, Suite 102, Gilbert, AZ 85233</td>\n",
       "      <td>jersey-mikes-subs-gilbert-2</td>\n",
       "    </tr>\n",
       "    <tr>\n",
       "      <th>1</th>\n",
       "      <td>Sauce</td>\n",
       "      <td>14418 N Scottsdale Rd, Suite 181, Scottsdale, ...</td>\n",
       "      <td>sauce-pizza-and-wine-scottsdale-2</td>\n",
       "    </tr>\n",
       "    <tr>\n",
       "      <th>2</th>\n",
       "      <td>Fuddruckers</td>\n",
       "      <td>8941 N Black Canyon Hwy, Phoenix, AZ 85021</td>\n",
       "      <td>fuddruckers-phoenix-3</td>\n",
       "    </tr>\n",
       "    <tr>\n",
       "      <th>3</th>\n",
       "      <td>Peter Piper Pizza</td>\n",
       "      <td>7607 E McDowell Road, Suite 101, Scottsdale, A...</td>\n",
       "      <td>peter-piper-pizza-scottsdale-4</td>\n",
       "    </tr>\n",
       "    <tr>\n",
       "      <th>4</th>\n",
       "      <td>Sofia's Mexican Food</td>\n",
       "      <td>616 E Pima Street, Gila Bend, AZ 85337</td>\n",
       "      <td>sofias-mexican-food-gila-bend</td>\n",
       "    </tr>\n",
       "  </tbody>\n",
       "</table>\n",
       "</div>"
      ],
      "text/plain": [
       "                   name                                       full_address  \\\n",
       "0    Jersey Mike's Subs    891 E Baseline Rd, Suite 102, Gilbert, AZ 85233   \n",
       "1                 Sauce  14418 N Scottsdale Rd, Suite 181, Scottsdale, ...   \n",
       "2           Fuddruckers         8941 N Black Canyon Hwy, Phoenix, AZ 85021   \n",
       "3     Peter Piper Pizza  7607 E McDowell Road, Suite 101, Scottsdale, A...   \n",
       "4  Sofia's Mexican Food             616 E Pima Street, Gila Bend, AZ 85337   \n",
       "\n",
       "                                link  \n",
       "0        jersey-mikes-subs-gilbert-2  \n",
       "1  sauce-pizza-and-wine-scottsdale-2  \n",
       "2              fuddruckers-phoenix-3  \n",
       "3     peter-piper-pizza-scottsdale-4  \n",
       "4      sofias-mexican-food-gila-bend  "
      ]
     },
     "execution_count": 17,
     "metadata": {},
     "output_type": "execute_result"
    }
   ],
   "source": [
    "unmerged_google_link = pd.read_csv('final_unmerged_df_with_link.csv')\n",
    "print(len(unmerged_google_link))\n",
    "unmerged_google_link.dropna(subset=['link'], inplace=True)\n",
    "print(len(unmerged_google_link))\n",
    "unmerged_google_link = unmerged_google_link[[\"name\", \"full_address\", \"link\"]]\n",
    "unmerged_google_link.head()"
   ]
  },
  {
   "cell_type": "code",
   "execution_count": 18,
   "metadata": {},
   "outputs": [
    {
     "name": "stdout",
     "output_type": "stream",
     "text": [
      "72\n",
      "63\n"
     ]
    },
    {
     "data": {
      "text/html": [
       "<div>\n",
       "<style>\n",
       "    .dataframe thead tr:only-child th {\n",
       "        text-align: right;\n",
       "    }\n",
       "\n",
       "    .dataframe thead th {\n",
       "        text-align: left;\n",
       "    }\n",
       "\n",
       "    .dataframe tbody tr th {\n",
       "        vertical-align: top;\n",
       "    }\n",
       "</style>\n",
       "<table border=\"1\" class=\"dataframe\">\n",
       "  <thead>\n",
       "    <tr style=\"text-align: right;\">\n",
       "      <th></th>\n",
       "      <th>name</th>\n",
       "      <th>full_address</th>\n",
       "      <th>link</th>\n",
       "    </tr>\n",
       "  </thead>\n",
       "  <tbody>\n",
       "    <tr>\n",
       "      <th>0</th>\n",
       "      <td>Five Guys Burgers and Fries</td>\n",
       "      <td>15435 N Scottsdale Rd, Ste 100, Scottsdale, AZ...</td>\n",
       "      <td>https://www.yelp.com/biz/five-guys-scottsdale</td>\n",
       "    </tr>\n",
       "    <tr>\n",
       "      <th>1</th>\n",
       "      <td>Jersey Mike's Subs</td>\n",
       "      <td>2501 W Happy Valley Rd, Phoenix, AZ 85027</td>\n",
       "      <td>https://www.yelp.com/biz/jersey-mikes-subs-pho...</td>\n",
       "    </tr>\n",
       "    <tr>\n",
       "      <th>2</th>\n",
       "      <td>Casa Grande Steakhouse</td>\n",
       "      <td>109 E 2nd St, Casa Grande, AZ 85122</td>\n",
       "      <td>https://www.yelp.com/biz/casa-grande-steakhous...</td>\n",
       "    </tr>\n",
       "    <tr>\n",
       "      <th>4</th>\n",
       "      <td>Dominos Pizza</td>\n",
       "      <td>20046 N John Wayne Parkway, Maricopa, AZ 85239</td>\n",
       "      <td>https://www.yelp.com/biz/dominos-pizza-maricopa</td>\n",
       "    </tr>\n",
       "    <tr>\n",
       "      <th>5</th>\n",
       "      <td>Denny's Restaurant</td>\n",
       "      <td>1851 E Florence Boulevard, Casa Grande, AZ 85222</td>\n",
       "      <td>https://www.yelp.com/biz/dennys-casa-grande</td>\n",
       "    </tr>\n",
       "  </tbody>\n",
       "</table>\n",
       "</div>"
      ],
      "text/plain": [
       "                          name  \\\n",
       "0  Five Guys Burgers and Fries   \n",
       "1           Jersey Mike's Subs   \n",
       "2       Casa Grande Steakhouse   \n",
       "4                Dominos Pizza   \n",
       "5           Denny's Restaurant   \n",
       "\n",
       "                                        full_address  \\\n",
       "0  15435 N Scottsdale Rd, Ste 100, Scottsdale, AZ...   \n",
       "1          2501 W Happy Valley Rd, Phoenix, AZ 85027   \n",
       "2                109 E 2nd St, Casa Grande, AZ 85122   \n",
       "4     20046 N John Wayne Parkway, Maricopa, AZ 85239   \n",
       "5   1851 E Florence Boulevard, Casa Grande, AZ 85222   \n",
       "\n",
       "                                                link  \n",
       "0      https://www.yelp.com/biz/five-guys-scottsdale  \n",
       "1  https://www.yelp.com/biz/jersey-mikes-subs-pho...  \n",
       "2  https://www.yelp.com/biz/casa-grande-steakhous...  \n",
       "4    https://www.yelp.com/biz/dominos-pizza-maricopa  \n",
       "5        https://www.yelp.com/biz/dennys-casa-grande  "
      ]
     },
     "execution_count": 18,
     "metadata": {},
     "output_type": "execute_result"
    }
   ],
   "source": [
    "more_unmerged_no_link_fixed_df = pd.read_csv('more_unmerged_no_link_fixed.csv')\n",
    "print(len(more_unmerged_no_link_fixed_df))\n",
    "more_unmerged_no_link_fixed_df.dropna(subset=['link'], inplace=True)\n",
    "print(len(more_unmerged_no_link_fixed_df))\n",
    "more_unmerged_no_link_fixed_df = more_unmerged_no_link_fixed_df[[\"name\", \"full_address\", \"link\"]]\n",
    "more_unmerged_no_link_fixed_df.head()"
   ]
  },
  {
   "cell_type": "code",
   "execution_count": 19,
   "metadata": {},
   "outputs": [
    {
     "name": "stdout",
     "output_type": "stream",
     "text": [
      "63\n",
      "57\n"
     ]
    },
    {
     "data": {
      "text/html": [
       "<div>\n",
       "<style>\n",
       "    .dataframe thead tr:only-child th {\n",
       "        text-align: right;\n",
       "    }\n",
       "\n",
       "    .dataframe thead th {\n",
       "        text-align: left;\n",
       "    }\n",
       "\n",
       "    .dataframe tbody tr th {\n",
       "        vertical-align: top;\n",
       "    }\n",
       "</style>\n",
       "<table border=\"1\" class=\"dataframe\">\n",
       "  <thead>\n",
       "    <tr style=\"text-align: right;\">\n",
       "      <th></th>\n",
       "      <th>name</th>\n",
       "      <th>full_address</th>\n",
       "      <th>link</th>\n",
       "    </tr>\n",
       "  </thead>\n",
       "  <tbody>\n",
       "    <tr>\n",
       "      <th>0</th>\n",
       "      <td>Brother's Pizza</td>\n",
       "      <td>6635 W Happy Valley Road Suite A104, Glendale,...</td>\n",
       "      <td>https://www.yelp.com/biz/brothers-pizza-glendale</td>\n",
       "    </tr>\n",
       "    <tr>\n",
       "      <th>1</th>\n",
       "      <td>Great Wok</td>\n",
       "      <td>3646 E Ray Rd, #12, Phoenix, AZ 85044</td>\n",
       "      <td>https://www.yelp.com/biz/great-wok-phoenix</td>\n",
       "    </tr>\n",
       "    <tr>\n",
       "      <th>2</th>\n",
       "      <td>Siu Wok</td>\n",
       "      <td>3815 N Central Ave, #A, Phoenix, AZ 85012</td>\n",
       "      <td>https://www.yelp.com/biz/siu-wok-phoenix</td>\n",
       "    </tr>\n",
       "    <tr>\n",
       "      <th>3</th>\n",
       "      <td>Island Teriyaki</td>\n",
       "      <td>5932 W Bell Road, Suite D112, Glendale, AZ 85308</td>\n",
       "      <td>https://www.yelp.com/biz/island-teriyaki-glendale</td>\n",
       "    </tr>\n",
       "    <tr>\n",
       "      <th>4</th>\n",
       "      <td>Panda Express</td>\n",
       "      <td>921 N Dodson Rd, Mesa, AZ 85201</td>\n",
       "      <td>https://www.yelp.com/biz/panda-express-mesa-13</td>\n",
       "    </tr>\n",
       "  </tbody>\n",
       "</table>\n",
       "</div>"
      ],
      "text/plain": [
       "              name                                       full_address  \\\n",
       "0  Brother's Pizza  6635 W Happy Valley Road Suite A104, Glendale,...   \n",
       "1        Great Wok              3646 E Ray Rd, #12, Phoenix, AZ 85044   \n",
       "2          Siu Wok          3815 N Central Ave, #A, Phoenix, AZ 85012   \n",
       "3  Island Teriyaki   5932 W Bell Road, Suite D112, Glendale, AZ 85308   \n",
       "4    Panda Express                    921 N Dodson Rd, Mesa, AZ 85201   \n",
       "\n",
       "                                                link  \n",
       "0   https://www.yelp.com/biz/brothers-pizza-glendale  \n",
       "1         https://www.yelp.com/biz/great-wok-phoenix  \n",
       "2           https://www.yelp.com/biz/siu-wok-phoenix  \n",
       "3  https://www.yelp.com/biz/island-teriyaki-glendale  \n",
       "4     https://www.yelp.com/biz/panda-express-mesa-13  "
      ]
     },
     "execution_count": 19,
     "metadata": {},
     "output_type": "execute_result"
    }
   ],
   "source": [
    "unmerged_no_link_fixed_df = pd.read_csv(\"../data/unmerged_no_link_fixed.csv\")\n",
    "print(len(unmerged_no_link_fixed_df))\n",
    "unmerged_no_link_fixed_df.dropna(subset=['link'], inplace=True)\n",
    "print(len(unmerged_no_link_fixed_df))\n",
    "unmerged_no_link_fixed_df = unmerged_no_link_fixed_df[[\"name\", \"full_address\", \"link\"]]\n",
    "unmerged_no_link_fixed_df.head()"
   ]
  },
  {
   "cell_type": "code",
   "execution_count": 22,
   "metadata": {},
   "outputs": [
    {
     "name": "stdout",
     "output_type": "stream",
     "text": [
      "1785\n"
     ]
    },
    {
     "data": {
      "text/html": [
       "<div>\n",
       "<style>\n",
       "    .dataframe thead tr:only-child th {\n",
       "        text-align: right;\n",
       "    }\n",
       "\n",
       "    .dataframe thead th {\n",
       "        text-align: left;\n",
       "    }\n",
       "\n",
       "    .dataframe tbody tr th {\n",
       "        vertical-align: top;\n",
       "    }\n",
       "</style>\n",
       "<table border=\"1\" class=\"dataframe\">\n",
       "  <thead>\n",
       "    <tr style=\"text-align: right;\">\n",
       "      <th></th>\n",
       "      <th>name</th>\n",
       "      <th>full_address</th>\n",
       "      <th>link</th>\n",
       "    </tr>\n",
       "  </thead>\n",
       "  <tbody>\n",
       "    <tr>\n",
       "      <th>0</th>\n",
       "      <td>Jersey Mike's Subs</td>\n",
       "      <td>891 E Baseline Rd, Suite 102, Gilbert, AZ 85233</td>\n",
       "      <td>jersey-mikes-subs-gilbert-2</td>\n",
       "    </tr>\n",
       "    <tr>\n",
       "      <th>1</th>\n",
       "      <td>Sauce</td>\n",
       "      <td>14418 N Scottsdale Rd, Suite 181, Scottsdale, ...</td>\n",
       "      <td>sauce-pizza-and-wine-scottsdale-2</td>\n",
       "    </tr>\n",
       "    <tr>\n",
       "      <th>2</th>\n",
       "      <td>Fuddruckers</td>\n",
       "      <td>8941 N Black Canyon Hwy, Phoenix, AZ 85021</td>\n",
       "      <td>fuddruckers-phoenix-3</td>\n",
       "    </tr>\n",
       "    <tr>\n",
       "      <th>3</th>\n",
       "      <td>Peter Piper Pizza</td>\n",
       "      <td>7607 E McDowell Road, Suite 101, Scottsdale, A...</td>\n",
       "      <td>peter-piper-pizza-scottsdale-4</td>\n",
       "    </tr>\n",
       "    <tr>\n",
       "      <th>4</th>\n",
       "      <td>Sofia's Mexican Food</td>\n",
       "      <td>616 E Pima Street, Gila Bend, AZ 85337</td>\n",
       "      <td>sofias-mexican-food-gila-bend</td>\n",
       "    </tr>\n",
       "  </tbody>\n",
       "</table>\n",
       "</div>"
      ],
      "text/plain": [
       "                   name                                       full_address  \\\n",
       "0    Jersey Mike's Subs    891 E Baseline Rd, Suite 102, Gilbert, AZ 85233   \n",
       "1                 Sauce  14418 N Scottsdale Rd, Suite 181, Scottsdale, ...   \n",
       "2           Fuddruckers         8941 N Black Canyon Hwy, Phoenix, AZ 85021   \n",
       "3     Peter Piper Pizza  7607 E McDowell Road, Suite 101, Scottsdale, A...   \n",
       "4  Sofia's Mexican Food             616 E Pima Street, Gila Bend, AZ 85337   \n",
       "\n",
       "                                link  \n",
       "0        jersey-mikes-subs-gilbert-2  \n",
       "1  sauce-pizza-and-wine-scottsdale-2  \n",
       "2              fuddruckers-phoenix-3  \n",
       "3     peter-piper-pizza-scottsdale-4  \n",
       "4      sofias-mexican-food-gila-bend  "
      ]
     },
     "execution_count": 22,
     "metadata": {},
     "output_type": "execute_result"
    }
   ],
   "source": [
    "all_unmerged_final = pd.concat([unmerged_google_link, more_unmerged_no_link_fixed_df, unmerged_no_link_fixed_df])\n",
    "print(len(all_unmerged_final))\n",
    "all_unmerged_final.head()"
   ]
  },
  {
   "cell_type": "code",
   "execution_count": 23,
   "metadata": {
    "collapsed": true
   },
   "outputs": [],
   "source": [
    "all_unmerged_final.to_pickle(\"all_unmerged_final.pkl\")"
   ]
  },
  {
   "cell_type": "code",
   "execution_count": null,
   "metadata": {
    "collapsed": true
   },
   "outputs": [],
   "source": []
  }
 ],
 "metadata": {
  "kernelspec": {
   "display_name": "Python 3",
   "language": "python",
   "name": "python3"
  },
  "language_info": {
   "codemirror_mode": {
    "name": "ipython",
    "version": 3
   },
   "file_extension": ".py",
   "mimetype": "text/x-python",
   "name": "python",
   "nbconvert_exporter": "python",
   "pygments_lexer": "ipython3",
   "version": "3.6.1"
  }
 },
 "nbformat": 4,
 "nbformat_minor": 2
}
